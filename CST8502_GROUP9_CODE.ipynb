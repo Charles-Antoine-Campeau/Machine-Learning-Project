{
 "cells": [
  {
   "cell_type": "markdown",
   "metadata": {},
   "source": [
    "# CST 8502 FINAL PROJECT\n",
    "\n",
    "By:  \n",
    "Charles-Antoine Campeau  \n",
    "Joshua Ayyasamy  \n",
    "Mubarak husain Shaikh  \n",
    "Curtis Sloan \n",
    "\n",
    "Submitted to Dr. Anu Thomas in partial fulfillment of the requirements of CST 8502 \n",
    "\n",
    "Algonquin College Artificial Intelligence Software Development\n",
    "\n",
    "2023-11-26"
   ]
  },
  {
   "cell_type": "code",
   "execution_count": null,
   "metadata": {},
   "outputs": [],
   "source": [
    "import pandas as pd\n",
    "import numpy as np\n",
    "import math\n",
    "import re\n",
    "from sklearn.model_selection import train_test_split\n",
    "import matplotlib.pyplot as plt\n",
    "from sklearn.tree import DecisionTreeClassifier\n",
    "from sklearn.preprocessing import OneHotEncoder\n",
    "from sklearn.preprocessing import LabelEncoder\n",
    "import seaborn as sns\n"
   ]
  },
  {
   "cell_type": "markdown",
   "metadata": {},
   "source": [
    "## DATA PREPARATION"
   ]
  },
  {
   "cell_type": "code",
   "execution_count": null,
   "metadata": {},
   "outputs": [],
   "source": [
    "# Import the CSV\n",
    "bicycleTheftData = pd.read_csv(\"bicycle-thefts - 4326.csv\")"
   ]
  },
  {
   "cell_type": "code",
   "execution_count": null,
   "metadata": {},
   "outputs": [],
   "source": [
    "# Remove the unnecessary attributes\n",
    "bicycleTheftData = bicycleTheftData.drop(columns=[\"_id\",\"EVENT_UNIQUE_ID\", \"OCC_DATE\", \"OCC_YEAR\", \"OCC_DAY\",\n",
    "                                                   \"OCC_DOY\", \"REPORT_DATE\", \"REPORT_YEAR\", \"REPORT_MONTH\", \"REPORT_DOW\", \"REPORT_DAY\", \n",
    "                                                     \"REPORT_DOY\", \"REPORT_HOUR\", \"LOCATION_TYPE\", \"BIKE_MODEL\", \"STATUS\", \"geometry\"])"
   ]
  },
  {
   "cell_type": "markdown",
   "metadata": {},
   "source": [
    "## DATA CLEANING & CONSTRUCTION\n",
    "The data cleaning and construction was separated between all members.  Everyone's contribution is indicated"
   ]
  },
  {
   "cell_type": "markdown",
   "metadata": {},
   "source": [
    "### Charles"
   ]
  },
  {
   "cell_type": "code",
   "execution_count": null,
   "metadata": {},
   "outputs": [],
   "source": [
    "# Import the CSV with the BIKE_MAKE changes\n",
    "makesData = pd.read_csv(\"MAKESREPLACEMENT.CSV\", delimiter=\";\")\n",
    "# Set the index as the good values and convert the strings to list\n",
    "makesData.set_index(\"NEW\", inplace=True)\n",
    "makesData[\"OLD\"] = makesData[\"OLD\"].str.split(\",\")\n",
    "\n",
    "# Convert the list to a series\n",
    "makesSeries = makesData[\"OLD\"].explode()"
   ]
  },
  {
   "cell_type": "code",
   "execution_count": null,
   "metadata": {},
   "outputs": [],
   "source": [
    "def GetMake(make):\n",
    "    \"\"\"Correct wrongfully inputted bicycle makes \\n\n",
    "    Parameter:\n",
    "    ------------\n",
    "    make: The instance bicycle make\n",
    "\n",
    "    Return:\n",
    "    -----------\n",
    "    The properly written make\n",
    "    \"\"\"\n",
    "    \n",
    "    try:\n",
    "        index = makesSeries.index[makesSeries.str.contains(re.escape(make))][0]\n",
    "        return index\n",
    "    except: \n",
    "        return make"
   ]
  },
  {
   "cell_type": "code",
   "execution_count": null,
   "metadata": {},
   "outputs": [],
   "source": [
    "# Fix the errors in the BIKE_MAKE attribute\n",
    "bicycleTheftData[\"BIKE_MAKE\"] = bicycleTheftData[\"BIKE_MAKE\"].apply(GetMake)"
   ]
  },
  {
   "cell_type": "markdown",
   "metadata": {},
   "source": [
    "### Joshua"
   ]
  },
  {
   "cell_type": "code",
   "execution_count": null,
   "metadata": {},
   "outputs": [],
   "source": [
    "bicycleTheftData['BIKE_SPEED'] = bicycleTheftData['BIKE_SPEED'].fillna(bicycleTheftData['BIKE_SPEED'].mean())"
   ]
  },
  {
   "cell_type": "code",
   "execution_count": null,
   "metadata": {},
   "outputs": [],
   "source": [
    "low = bicycleTheftData['BIKE_COST'].quantile(.25)\n",
    "average = bicycleTheftData['BIKE_COST'].quantile(.5)\n",
    "high = bicycleTheftData['BIKE_COST'].quantile(.75)\n",
    "bicycleTheftData['BIKE_COST_CATEGORY'] = np.select(\n",
    "    [\n",
    "        bicycleTheftData['BIKE_COST'].isna(),\n",
    "        bicycleTheftData['BIKE_COST'] <= low,\n",
    "        (bicycleTheftData['BIKE_COST'] > low) & (bicycleTheftData['BIKE_COST'] <= average),\n",
    "        (bicycleTheftData['BIKE_COST'] > average) & (bicycleTheftData['BIKE_COST'] <= high),\n",
    "        bicycleTheftData['BIKE_COST'] > high\n",
    "    ],\n",
    "    [\n",
    "        'NK',\n",
    "        'Low',\n",
    "        'Average',\n",
    "        'High',\n",
    "        'Luxury'\n",
    "    ],\n",
    "    default='Unknown'\n",
    ")"
   ]
  },
  {
   "cell_type": "code",
   "execution_count": null,
   "metadata": {},
   "outputs": [],
   "source": [
    "bicycleTheftData = bicycleTheftData.drop(['BIKE_COST'], axis =1)"
   ]
  },
  {
   "cell_type": "markdown",
   "metadata": {},
   "source": [
    "### Mubarak"
   ]
  },
  {
   "cell_type": "code",
   "execution_count": null,
   "metadata": {},
   "outputs": [],
   "source": [
    "# Replace missing values in PRIMARY_OFFENCE with 'Unknown'\n",
    "bicycleTheftData['PRIMARY_OFFENCE'].fillna('Unknown', inplace=True)\n",
    "\n",
    "# Convert entries to lowercase for uniformity\n",
    "bicycleTheftData['PRIMARY_OFFENCE'] = bicycleTheftData['PRIMARY_OFFENCE'].str.lower()"
   ]
  },
  {
   "cell_type": "code",
   "execution_count": null,
   "metadata": {},
   "outputs": [],
   "source": [
    "#there is one instance colored as '18' so to handle such anomalies we will replace it with unknown\n",
    "bicycleTheftData['BIKE_COLOUR'] = bicycleTheftData['BIKE_COLOUR'].replace('18', 'Unknown')\n",
    "\n",
    "bicycleTheftData['BIKE_COLOUR'].fillna('Unknown', inplace=True)"
   ]
  },
  {
   "cell_type": "code",
   "execution_count": null,
   "metadata": {},
   "outputs": [],
   "source": [
    "# Function to categorize colors\n",
    "def categorize_color(color):\n",
    "    color = color.lower()  # Convert to lowercase for uniformity\n",
    "\n",
    "    color_categories = {\n",
    "        'black': ['black', 'blk', 'blac'],\n",
    "        'blue': ['blue', 'blu'],\n",
    "        'brown': ['brown', 'brn'],\n",
    "        'beige': ['bge', 'beige'],\n",
    "        'gold': ['gold', 'gld'],\n",
    "        'green': ['green', 'grn'],\n",
    "        'grey': ['grey', 'gray', 'gry'],\n",
    "        'orange': ['orange', 'ong'],\n",
    "        'pink': ['pink', 'pnk'],\n",
    "        'purple': ['purple', 'purp'],\n",
    "        'red': ['red', 'rd'],\n",
    "        'silver': ['silver', 'sil'],\n",
    "        'turquoise': ['turquoise', 'trq'],\n",
    "        'white': ['white', 'whi'],\n",
    "        'yellow': ['yellow', 'yel']\n",
    "       \n",
    "    }\n",
    "\n",
    "    for category, values in color_categories.items():\n",
    "        for value in values:\n",
    "            if value in color:\n",
    "                return category\n",
    "\n",
    "    return 'Unknown'"
   ]
  },
  {
   "cell_type": "code",
   "execution_count": null,
   "metadata": {},
   "outputs": [],
   "source": [
    "# Apply the categorize_color function to the BIKE_COLOUR column\n",
    "bicycleTheftData['BIKE_COLOUR'] = bicycleTheftData['BIKE_COLOUR'].apply(categorize_color)"
   ]
  },
  {
   "cell_type": "markdown",
   "metadata": {},
   "source": [
    "### Curtis"
   ]
  },
  {
   "cell_type": "code",
   "execution_count": null,
   "metadata": {},
   "outputs": [],
   "source": [
    "def month_to_number(data):\n",
    "    months = [\"January\", \"February\", \"March\",\"April\", \"May\", \"June\",\n",
    "              \"July\", \"August\", \"September\",\"October\", \"November\", \"December\"]\n",
    "    \n",
    "    if data in months:\n",
    "        return months.index(data) + 1\n",
    "\n",
    "bicycleTheftData['OCC_MONTH'] = bicycleTheftData['OCC_MONTH'].apply(month_to_number)"
   ]
  },
  {
   "cell_type": "code",
   "execution_count": null,
   "metadata": {},
   "outputs": [],
   "source": [
    "def day_to_number(data):\n",
    "    days = [\"Monday\", \"Tuesday\", \"Wednesday\", \"Thursday\",\n",
    "            \"Friday\", \"Saturday\", \"Sunday\"]\n",
    "    \n",
    "    if data in days:\n",
    "        return days.index(data) + 1\n",
    "\n",
    "bicycleTheftData[\"OCC_DOW\"] = bicycleTheftData[\"OCC_DOW\"].apply(day_to_number)"
   ]
  },
  {
   "cell_type": "code",
   "execution_count": null,
   "metadata": {},
   "outputs": [],
   "source": [
    "ohe = OneHotEncoder()\n",
    "\n",
    "encoded = pd.DataFrame(ohe.fit_transform(bicycleTheftData[['PREMISES_TYPE']]).toarray())\n",
    "encoded.columns = ['Apartment','House','Commercial','Outside','Transit','Educational','Other']\n",
    "bicycleTheftData = bicycleTheftData.join(encoded)\n",
    "\n",
    "\n",
    "encoded = pd.DataFrame(ohe.fit_transform(bicycleTheftData[['BIKE_TYPE']]).toarray())\n",
    "encoded.columns = ['BM','EL','FO','MT','OT','RC','RE','RG','SC','TA','TO','TR','UN']\n",
    "bicycleTheftData = bicycleTheftData.join(encoded)"
   ]
  },
  {
   "cell_type": "code",
   "execution_count": null,
   "metadata": {},
   "outputs": [],
   "source": [
    "bicycleTheftData = bicycleTheftData.drop(['PREMISES_TYPE'], axis=1)\n",
    "bicycleTheftData = bicycleTheftData.drop(['BIKE_TYPE'], axis=1)"
   ]
  },
  {
   "cell_type": "code",
   "execution_count": null,
   "metadata": {},
   "outputs": [],
   "source": [
    "def time_of_day(data):\n",
    "    if pd.isnull(data):\n",
    "        return \"Unknown\"\n",
    "    elif data <= 4:\n",
    "        return \"Night\"\n",
    "    elif data <= 8:\n",
    "        return \"Dawn\"\n",
    "    elif data <= 11:\n",
    "        return \"Morning\"\n",
    "    elif data <= 16:\n",
    "        return \"Afternoon\"\n",
    "    elif data <= 21:\n",
    "        return \"Evening\"\n",
    "    else:\n",
    "        return \"Night\"\n",
    "    \n",
    "bicycleTheftData[\"OCC_TOD\"] = bicycleTheftData[\"OCC_HOUR\"].apply(time_of_day)\n",
    "bicycleTheftData = bicycleTheftData.drop(['OCC_HOUR'], axis=1)"
   ]
  }
 ],
 "metadata": {
  "kernelspec": {
   "display_name": "base",
   "language": "python",
   "name": "python3"
  },
  "language_info": {
   "codemirror_mode": {
    "name": "ipython",
    "version": 3
   },
   "file_extension": ".py",
   "mimetype": "text/x-python",
   "name": "python",
   "nbconvert_exporter": "python",
   "pygments_lexer": "ipython3",
   "version": "3.11.4"
  }
 },
 "nbformat": 4,
 "nbformat_minor": 2
}
