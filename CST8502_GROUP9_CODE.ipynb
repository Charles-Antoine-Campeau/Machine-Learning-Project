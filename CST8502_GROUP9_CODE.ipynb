{
 "cells": [
  {
   "cell_type": "markdown",
   "metadata": {},
   "source": [
    "# CST 8502 FINAL PROJECT\n",
    "\n",
    "By:  \n",
    "Charles-Antoine Campeau  \n",
    "Joshua Ayyasamy  \n",
    "Mubarak husain Shaikh  \n",
    "Curtis Sloan \n",
    "\n",
    "Submitted to Dr. Anu Thomas in partial fulfillment of the requirements of CST 8502 \n",
    "\n",
    "Algonquin College Artificial Intelligence Software Development\n",
    "\n",
    "2023-11-26"
   ]
  },
  {
   "cell_type": "code",
   "execution_count": null,
   "metadata": {},
   "outputs": [],
   "source": [
    "import pandas as pd\n",
    "import numpy as np\n",
    "import math\n",
    "import re\n",
    "from sklearn.model_selection import train_test_split\n",
    "import matplotlib.pyplot as plt\n",
    "from sklearn.tree import DecisionTreeClassifier\n",
    "from sklearn.preprocessing import OneHotEncoder\n",
    "from sklearn.preprocessing import LabelEncoder\n",
    "import seaborn as sns\n"
   ]
  },
  {
   "cell_type": "markdown",
   "metadata": {},
   "source": [
    "## DATA PREPARATION"
   ]
  },
  {
   "cell_type": "code",
   "execution_count": null,
   "metadata": {},
   "outputs": [],
   "source": [
    "# Import the CSV\n",
    "bicycleTheftData = pd.read_csv(\"bicycle-thefts - 4326.csv\")"
   ]
  },
  {
   "cell_type": "code",
   "execution_count": null,
   "metadata": {},
   "outputs": [],
   "source": [
    "# Remove the unnecessary attributes\n",
    "bicycleTheftData = bicycleTheftData.drop(columns=[\"_id\",\"EVENT_UNIQUE_ID\", \"OCC_DATE\", \"OCC_YEAR\", \"OCC_DAY\",\n",
    "                                                   \"OCC_DOY\", \"REPORT_DATE\", \"REPORT_YEAR\", \"REPORT_MONTH\", \"REPORT_DOW\", \"REPORT_DAY\", \n",
    "                                                     \"REPORT_DOY\", \"REPORT_HOUR\", \"LOCATION_TYPE\", \"BIKE_MODEL\", \"STATUS\", \"geometry\"])"
   ]
  },
  {
   "cell_type": "markdown",
   "metadata": {},
   "source": [
    "## DATA CLEANING\n",
    "The data cleaning was separated between all members.  Everyone's contribution is indicated"
   ]
  },
  {
   "cell_type": "markdown",
   "metadata": {},
   "source": [
    "### Charles"
   ]
  },
  {
   "cell_type": "code",
   "execution_count": null,
   "metadata": {},
   "outputs": [],
   "source": [
    "# Import the CSV with the BIKE_MAKE changes\n",
    "makesData = pd.read_csv(\"MAKESREPLACEMENT.CSV\", delimiter=\";\")\n",
    "# Set the index as the good values and convert the strings to list\n",
    "makesData.set_index(\"NEW\", inplace=True)\n",
    "makesData[\"OLD\"] = makesData[\"OLD\"].str.split(\",\")\n",
    "\n",
    "# Convert the list to a series\n",
    "makesSeries = makesData[\"OLD\"].explode()"
   ]
  },
  {
   "cell_type": "code",
   "execution_count": null,
   "metadata": {},
   "outputs": [],
   "source": [
    "def GetMake(make):\n",
    "    \"\"\"Correct wrongfully inputted bicycle makes \\n\n",
    "    Parameter:\n",
    "    ------------\n",
    "    make: The instance bicycle make\n",
    "\n",
    "    Return:\n",
    "    -----------\n",
    "    The properly written make\n",
    "    \"\"\"\n",
    "    \n",
    "    try:\n",
    "        index = makesSeries.index[makesSeries.str.contains(re.escape(make))][0]\n",
    "        return index\n",
    "    except: \n",
    "        return make"
   ]
  },
  {
   "cell_type": "code",
   "execution_count": null,
   "metadata": {},
   "outputs": [],
   "source": [
    "# Fix the errors in the BIKE_MAKE attribute\n",
    "bicycleTheftData[\"BIKE_MAKE\"] = bicycleTheftData[\"BIKE_MAKE\"].apply(GetMake)"
   ]
  },
  {
   "cell_type": "markdown",
   "metadata": {},
   "source": [
    "### Joshua"
   ]
  },
  {
   "cell_type": "code",
   "execution_count": null,
   "metadata": {},
   "outputs": [],
   "source": [
    "bicycleTheftData['BIKE_SPEED'] = bicycleTheftData['BIKE_SPEED'].fillna(bicycleTheftData['BIKE_SPEED'].mean())"
   ]
  },
  {
   "cell_type": "code",
   "execution_count": null,
   "metadata": {},
   "outputs": [],
   "source": [
    "low = bicycleTheftData['BIKE_COST'].quantile(.25)\n",
    "average = bicycleTheftData['BIKE_COST'].quantile(.5)\n",
    "high = bicycleTheftData['BIKE_COST'].quantile(.75)\n",
    "bicycleTheftData['BIKE_COST_CATEGORY'] = np.select(\n",
    "    [\n",
    "        bicycleTheftData['BIKE_COST'].isna(),\n",
    "        bicycleTheftData['BIKE_COST'] <= low,\n",
    "        (bicycleTheftData['BIKE_COST'] > low) & (bicycleTheftData['BIKE_COST'] <= average),\n",
    "        (bicycleTheftData['BIKE_COST'] > average) & (bicycleTheftData['BIKE_COST'] <= high),\n",
    "        bicycleTheftData['BIKE_COST'] > high\n",
    "    ],\n",
    "    [\n",
    "        'NK',\n",
    "        'Low',\n",
    "        'Average',\n",
    "        'High',\n",
    "        'Luxury'\n",
    "    ],\n",
    "    default='Unknown'\n",
    ")"
   ]
  },
  {
   "cell_type": "code",
   "execution_count": null,
   "metadata": {},
   "outputs": [],
   "source": [
    "bicycleTheftData = bicycleTheftData.drop(['BIKE_COST'], axis =1)"
   ]
  }
 ],
 "metadata": {
  "kernelspec": {
   "display_name": "base",
   "language": "python",
   "name": "python3"
  },
  "language_info": {
   "codemirror_mode": {
    "name": "ipython",
    "version": 3
   },
   "file_extension": ".py",
   "mimetype": "text/x-python",
   "name": "python",
   "nbconvert_exporter": "python",
   "pygments_lexer": "ipython3",
   "version": "3.11.4"
  }
 },
 "nbformat": 4,
 "nbformat_minor": 2
}
