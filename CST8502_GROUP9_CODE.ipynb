{
 "cells": [
  {
   "cell_type": "markdown",
   "metadata": {},
   "source": [
    "# CST 8502 FINAL PROJECT\n",
    "\n",
    "By:\n",
    "Charles-Antoine Campeau \n",
    "Joshua Ayyasamy  \n",
    "Mubarak husain Shaikh  \n",
    "Curtis Sloan \n",
    "\n",
    "Submitted to Dr. Anu Thomas in partial fulfillment of the requirements of CST 8502 \n",
    "\n",
    "Algonquin College Artificial Intelligence Software Development\n",
    "\n",
    "2023-11-26"
   ]
  },
  {
   "cell_type": "code",
   "execution_count": null,
   "metadata": {},
   "outputs": [],
   "source": [
    "import pandas as pd\n",
    "import numpy as np\n",
    "import math\n",
    "import re\n",
    "from sklearn.model_selection import train_test_split\n",
    "import matplotlib.pyplot as plt\n",
    "from sklearn.tree import DecisionTreeClassifier\n",
    "from sklearn.preprocessing import OneHotEncoder\n",
    "from sklearn.preprocessing import LabelEncoder\n"
   ]
  },
  {
   "cell_type": "markdown",
   "metadata": {},
   "source": [
    "## DATA PREPARATION"
   ]
  },
  {
   "cell_type": "code",
   "execution_count": null,
   "metadata": {},
   "outputs": [],
   "source": [
    "# Import the CSV\n",
    "bicycleTheftData = pd.read_csv(\"bicycle-thefts - 4326.csv\")"
   ]
  },
  {
   "cell_type": "code",
   "execution_count": null,
   "metadata": {},
   "outputs": [],
   "source": [
    "# Remove the unecessary attributes\n",
    "bicycleTheftData = bicycleTheftData.drop(columns=[\"_id\",\"EVENT_UNIQUE_ID\", \"OCC_DATE\", \"OCC_YEAR\", \"OCC_DAY\",\n",
    "                                                   \"OCC_DOY\", \"REPORT_DATE\", \"REPORT_YEAR\", \"REPORT_MONTH\", \"REPORT_DOW\", \"REPORT_DAY\", \n",
    "                                                     \"REPORT_DOY\", \"REPORT_HOUR\", \"LOCATION_TYPE\", \"BIKE_MODEL\", \"STATUS\", \"geometry\"])"
   ]
  }
 ],
 "metadata": {
  "kernelspec": {
   "display_name": "base",
   "language": "python",
   "name": "python3"
  },
  "language_info": {
   "codemirror_mode": {
    "name": "ipython",
    "version": 3
   },
   "file_extension": ".py",
   "mimetype": "text/x-python",
   "name": "python",
   "nbconvert_exporter": "python",
   "pygments_lexer": "ipython3",
   "version": "3.11.4"
  }
 },
 "nbformat": 4,
 "nbformat_minor": 2
}
